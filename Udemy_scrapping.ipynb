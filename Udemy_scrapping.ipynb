{
 "cells": [
  {
   "cell_type": "code",
   "execution_count": 30,
   "metadata": {},
   "outputs": [],
   "source": [
    "from bs4 import BeautifulSoup\n",
    "import requests\n",
    "from tqdm import tqdm\n",
    "import pandas as pd\n",
    "import base64"
   ]
  },
  {
   "cell_type": "code",
   "execution_count": 31,
   "metadata": {},
   "outputs": [],
   "source": [
    "response = requests.get(\"https://www.udemy.com/courses/\")\n",
    "html_soup = BeautifulSoup(response.content, 'html.parser')\n",
    "\n",
    "#print(html_soup.prettify())"
   ]
  },
  {
   "cell_type": "markdown",
   "metadata": {},
   "source": [
    "# API "
   ]
  },
  {
   "cell_type": "code",
   "execution_count": 32,
   "metadata": {},
   "outputs": [
    {
     "data": {
      "text/plain": [
       "<Response [404]>"
      ]
     },
     "execution_count": 32,
     "metadata": {},
     "output_type": "execute_result"
    }
   ],
   "source": [
    "#Authorization: Basic {BASE64_ENCODED(CLIENT_ID:CLIENT_SECRET)}\n",
    "\n",
    "client_id = \"5kKF2aDHjxAr0lTcg2cNVGD3J10xtJBLbANactCL\"\n",
    "client_secret_id = \"EAbhMw9sSNV2jge8Yu66U6CUTUqjwHi1kVuGyGVAfjZlzwn4HRjdeQq7O1YqF880F4srU8bJEzIztMZsnJR2VVB3Ou6SpmUjIEbsU7FucaixOJL99tqIcU309pYTxHBX\"\n",
    "encoded = base64.b64encode((client_id + ':' + client_secret_id).encode(\"utf-8\")).decode(\"utf-8\")\n",
    "\n",
    "#data = \"Authorization: Basic \" + encoded\n",
    "\n",
    "#data = \"Basic NWtLRjJhREhqeEFyMGxUY2cyY05WR0QzSjEweHRKQkxiQU5hY3RDTDpFQWJoTXc5c1NOVjJqZ2U4WXU2NlU2Q1VUVXFqd0hpMWtWdUd5R1ZBZmpabHp3bjRIUmpkZVFxN08xWXFGODgwRjRzclU4YkpFekl6dE1ac25KUjJWVkIzT3U2U3BtVWpJRWJzVTdGdWNhaXhPSkw5OXRxSWNVMzA5cFlUeEhCWA==\"\n",
    "data= \"Basic NWtLRjJhREhqeEFyMGxUY2cyY05WR0QzSjEweHRKQkxiQU5hY3RDTDpFQWJoTXc5c1NOVjJqZ2U4WXU2NlU2Q1VUVXFqd0hpMWtWdUd5R1ZBZmpabHp3bjRIUmpkZVFxN08xWXFGODgwRjRzclU4YkpFekl6dE1ac25KUjJWVkIzT3U2U3BtVWpJRWJzVTdGdWNhaXhPSkw5OXRxSWNVMzA5cFlUeEhCWA==\"\n",
    "# requests.get(\"https://www.udemy.com/api-2.0/courses/?page=16&page_size=10000&subcategory=Data%20Science&ordering=relevance\", data)\n",
    "requests.get('https://www.udemy.com/get /api-2.0/courses/?page=1&page_size=10000&subcategory=Data%20Science&ordering=relevance',data)"
   ]
  },
  {
   "cell_type": "code",
   "execution_count": 35,
   "metadata": {},
   "outputs": [
    {
     "name": "stdout",
     "output_type": "stream",
     "text": [
      "dict_keys(['_class', 'id', 'title', 'url', 'is_paid', 'price', 'price_detail', 'price_serve_tracking_id', 'visible_instructors', 'image_125_H', 'image_240x135', 'is_practice_test_course', 'image_480x270', 'published_title', 'tracking_id', 'predictive_score', 'relevancy_score', 'input_features', 'lecture_search_result', 'curriculum_lectures', 'order_in_results', 'curriculum_items', 'headline', 'instructor_name'])\n"
     ]
    }
   ],
   "source": [
    "import json\n",
    "\n",
    "with open(r'C:\\Users\\parth\\Desktop\\Internship/data_science.json', encoding='utf-8') as f:\n",
    "  data = json.load(f)\n",
    "\n",
    "\n",
    "\n",
    "results = data['results']\n",
    "print(results[0].keys())"
   ]
  },
  {
   "cell_type": "code",
   "execution_count": 44,
   "metadata": {},
   "outputs": [],
   "source": [
    "# results[9]"
   ]
  },
  {
   "cell_type": "code",
   "execution_count": 37,
   "metadata": {},
   "outputs": [],
   "source": [
    "title = []\n",
    "c_id = []\n",
    "url = []\n",
    "published_title = []\n",
    "headline = []"
   ]
  },
  {
   "cell_type": "code",
   "execution_count": 38,
   "metadata": {},
   "outputs": [
    {
     "name": "stderr",
     "output_type": "stream",
     "text": [
      "100%|██████████| 100/100 [00:00<?, ?it/s]\n"
     ]
    }
   ],
   "source": [
    "for result in tqdm(results):\n",
    "    title.append(result['title'])\n",
    "    c_id.append(result['id'])\n",
    "    url.append('https://www.udemy.com' + result['url'])\n",
    "    published_title.append(result['published_title'])\n",
    "    headline.append(result['headline'])"
   ]
  },
  {
   "cell_type": "code",
   "execution_count": 59,
   "metadata": {},
   "outputs": [
    {
     "data": {
      "text/html": [
       "<div>\n",
       "<style scoped>\n",
       "    .dataframe tbody tr th:only-of-type {\n",
       "        vertical-align: middle;\n",
       "    }\n",
       "\n",
       "    .dataframe tbody tr th {\n",
       "        vertical-align: top;\n",
       "    }\n",
       "\n",
       "    .dataframe thead th {\n",
       "        text-align: right;\n",
       "    }\n",
       "</style>\n",
       "<table border=\"1\" class=\"dataframe\">\n",
       "  <thead>\n",
       "    <tr style=\"text-align: right;\">\n",
       "      <th></th>\n",
       "      <th>Course_title</th>\n",
       "      <th>Course_id</th>\n",
       "      <th>Headline</th>\n",
       "      <th>Description</th>\n",
       "      <th>Course_url</th>\n",
       "      <th>SubCategory</th>\n",
       "    </tr>\n",
       "  </thead>\n",
       "  <tbody>\n",
       "    <tr>\n",
       "      <th>95</th>\n",
       "      <td>Complete Linear Regression Analysis in Python</td>\n",
       "      <td>2236248</td>\n",
       "      <td>Linear Regression in Python| Simple Regression...</td>\n",
       "      <td>machine-learning-basics-building-regression-mo...</td>\n",
       "      <td>https://www.udemy.com/course/machine-learning-...</td>\n",
       "      <td>Data Science</td>\n",
       "    </tr>\n",
       "    <tr>\n",
       "      <th>96</th>\n",
       "      <td>Deploy Machine Learning &amp; NLP Models with Dock...</td>\n",
       "      <td>1713688</td>\n",
       "      <td>Learn to build Machine Learning, Deep Learning...</td>\n",
       "      <td>deploy-data-science-nlp-models-with-docker-con...</td>\n",
       "      <td>https://www.udemy.com/course/deploy-data-scien...</td>\n",
       "      <td>Data Science</td>\n",
       "    </tr>\n",
       "    <tr>\n",
       "      <th>97</th>\n",
       "      <td>Artificial Intelligence &amp; Machine Learning for...</td>\n",
       "      <td>2084384</td>\n",
       "      <td>The Ultimate Artificial Intelligence &amp; Machine...</td>\n",
       "      <td>artificial-intelligence-machine-learning-business</td>\n",
       "      <td>https://www.udemy.com/course/artificial-intell...</td>\n",
       "      <td>Data Science</td>\n",
       "    </tr>\n",
       "    <tr>\n",
       "      <th>98</th>\n",
       "      <td>Complete Machine Learning with R Studio - ML f...</td>\n",
       "      <td>2503534</td>\n",
       "      <td>Linear &amp; Logistic Regression, Decision Trees, ...</td>\n",
       "      <td>machine-learning-with-r-studio</td>\n",
       "      <td>https://www.udemy.com/course/machine-learning-...</td>\n",
       "      <td>Data Science</td>\n",
       "    </tr>\n",
       "    <tr>\n",
       "      <th>99</th>\n",
       "      <td>From 0 to 1: Hive for Processing Big Data</td>\n",
       "      <td>857298</td>\n",
       "      <td>End-to-End Hive : HQL, Partitioning, Bucketing...</td>\n",
       "      <td>from-0-to-1-hive</td>\n",
       "      <td>https://www.udemy.com/course/from-0-to-1-hive/</td>\n",
       "      <td>Data Science</td>\n",
       "    </tr>\n",
       "  </tbody>\n",
       "</table>\n",
       "</div>"
      ],
      "text/plain": [
       "                                         Course_title  Course_id  \\\n",
       "95      Complete Linear Regression Analysis in Python    2236248   \n",
       "96  Deploy Machine Learning & NLP Models with Dock...    1713688   \n",
       "97  Artificial Intelligence & Machine Learning for...    2084384   \n",
       "98  Complete Machine Learning with R Studio - ML f...    2503534   \n",
       "99          From 0 to 1: Hive for Processing Big Data     857298   \n",
       "\n",
       "                                             Headline  \\\n",
       "95  Linear Regression in Python| Simple Regression...   \n",
       "96  Learn to build Machine Learning, Deep Learning...   \n",
       "97  The Ultimate Artificial Intelligence & Machine...   \n",
       "98  Linear & Logistic Regression, Decision Trees, ...   \n",
       "99  End-to-End Hive : HQL, Partitioning, Bucketing...   \n",
       "\n",
       "                                          Description  \\\n",
       "95  machine-learning-basics-building-regression-mo...   \n",
       "96  deploy-data-science-nlp-models-with-docker-con...   \n",
       "97  artificial-intelligence-machine-learning-business   \n",
       "98                     machine-learning-with-r-studio   \n",
       "99                                   from-0-to-1-hive   \n",
       "\n",
       "                                           Course_url   SubCategory  \n",
       "95  https://www.udemy.com/course/machine-learning-...  Data Science  \n",
       "96  https://www.udemy.com/course/deploy-data-scien...  Data Science  \n",
       "97  https://www.udemy.com/course/artificial-intell...  Data Science  \n",
       "98  https://www.udemy.com/course/machine-learning-...  Data Science  \n",
       "99     https://www.udemy.com/course/from-0-to-1-hive/  Data Science  "
      ]
     },
     "execution_count": 59,
     "metadata": {},
     "output_type": "execute_result"
    }
   ],
   "source": [
    "df = pd.DataFrame({'Course_title': title,\n",
    "                  'Course_id': c_id,\n",
    "                  'Headline': headline,\n",
    "                  'Description': published_title,\n",
    "                  'Course_url': url})\n",
    "df['SubCategory'] = \"Data Science\"\n",
    "df.tail()"
   ]
  },
  {
   "cell_type": "code",
   "execution_count": 42,
   "metadata": {},
   "outputs": [],
   "source": [
    "df.to_csv('data_science1.csv', index = False)"
   ]
  },
  {
   "cell_type": "code",
   "execution_count": 46,
   "metadata": {},
   "outputs": [],
   "source": [
    "# df"
   ]
  },
  {
   "cell_type": "code",
   "execution_count": 60,
   "metadata": {},
   "outputs": [
    {
     "name": "stdout",
     "output_type": "stream",
     "text": [
      "dict_keys(['_class', 'id', 'title', 'url', 'is_paid', 'price', 'price_detail', 'price_serve_tracking_id', 'visible_instructors', 'image_125_H', 'image_240x135', 'is_practice_test_course', 'image_480x270', 'published_title', 'tracking_id', 'predictive_score', 'relevancy_score', 'input_features', 'lecture_search_result', 'curriculum_lectures', 'order_in_results', 'curriculum_items', 'headline', 'instructor_name'])\n"
     ]
    }
   ],
   "source": [
    "import json  # Using 2 pages of data\n",
    "\n",
    "with open(r'C:\\Users\\parth\\Desktop\\Internship/data_science2.json', encoding='utf-8') as f:\n",
    "  data = json.load(f)\n",
    "\n",
    "\n",
    "\n",
    "results = data['results']\n",
    "print(results[0].keys())"
   ]
  },
  {
   "cell_type": "code",
   "execution_count": 61,
   "metadata": {},
   "outputs": [],
   "source": [
    "# results[9]"
   ]
  },
  {
   "cell_type": "code",
   "execution_count": 62,
   "metadata": {},
   "outputs": [],
   "source": [
    "title = []\n",
    "c_id = []\n",
    "url = []\n",
    "published_title = []\n",
    "headline = []"
   ]
  },
  {
   "cell_type": "code",
   "execution_count": 63,
   "metadata": {},
   "outputs": [
    {
     "name": "stderr",
     "output_type": "stream",
     "text": [
      "100%|██████████| 100/100 [00:00<00:00, 1231.93it/s]\n"
     ]
    }
   ],
   "source": [
    "for result in tqdm(results):\n",
    "    title.append(result['title'])\n",
    "    c_id.append(result['id'])\n",
    "    url.append('https://www.udemy.com' + result['url'])\n",
    "    published_title.append(result['published_title'])\n",
    "    headline.append(result['headline'])"
   ]
  },
  {
   "cell_type": "code",
   "execution_count": 65,
   "metadata": {},
   "outputs": [
    {
     "data": {
      "text/html": [
       "<div>\n",
       "<style scoped>\n",
       "    .dataframe tbody tr th:only-of-type {\n",
       "        vertical-align: middle;\n",
       "    }\n",
       "\n",
       "    .dataframe tbody tr th {\n",
       "        vertical-align: top;\n",
       "    }\n",
       "\n",
       "    .dataframe thead th {\n",
       "        text-align: right;\n",
       "    }\n",
       "</style>\n",
       "<table border=\"1\" class=\"dataframe\">\n",
       "  <thead>\n",
       "    <tr style=\"text-align: right;\">\n",
       "      <th></th>\n",
       "      <th>Course_title</th>\n",
       "      <th>Course_id</th>\n",
       "      <th>Headline</th>\n",
       "      <th>Description</th>\n",
       "      <th>Course_url</th>\n",
       "      <th>SubCategory</th>\n",
       "    </tr>\n",
       "  </thead>\n",
       "  <tbody>\n",
       "    <tr>\n",
       "      <th>0</th>\n",
       "      <td>Logistic Regression in Python</td>\n",
       "      <td>2332592</td>\n",
       "      <td>Logistic regression in Python tutorial for beg...</td>\n",
       "      <td>machine-learning-basics-classification-models-...</td>\n",
       "      <td>https://www.udemy.com/course/machine-learning-...</td>\n",
       "      <td>Data Science</td>\n",
       "    </tr>\n",
       "    <tr>\n",
       "      <th>1</th>\n",
       "      <td>Introduction to Machine Learning &amp; Deep Learni...</td>\n",
       "      <td>617930</td>\n",
       "      <td>Regression, Naive Bayes Classifier, Support Ve...</td>\n",
       "      <td>introduction-to-machine-learning-in-python</td>\n",
       "      <td>https://www.udemy.com/course/introduction-to-m...</td>\n",
       "      <td>Data Science</td>\n",
       "    </tr>\n",
       "    <tr>\n",
       "      <th>2</th>\n",
       "      <td>Neural Networks in Python: Deep Learning for B...</td>\n",
       "      <td>2652356</td>\n",
       "      <td>Learn Artificial Neural Networks (ANN) in Pyth...</td>\n",
       "      <td>neural-network-understanding-and-building-an-a...</td>\n",
       "      <td>https://www.udemy.com/course/neural-network-un...</td>\n",
       "      <td>Data Science</td>\n",
       "    </tr>\n",
       "    <tr>\n",
       "      <th>3</th>\n",
       "      <td>Complete Time Series Analysis With Python</td>\n",
       "      <td>1919176</td>\n",
       "      <td>Python Time Series: How To Use Data Science, S...</td>\n",
       "      <td>complete-time-series-data-analysis-bootcamp-wi...</td>\n",
       "      <td>https://www.udemy.com/course/complete-time-ser...</td>\n",
       "      <td>Data Science</td>\n",
       "    </tr>\n",
       "    <tr>\n",
       "      <th>4</th>\n",
       "      <td>Machine Learning Practical Workout | 8 Real-Wo...</td>\n",
       "      <td>2367072</td>\n",
       "      <td>Build 8 Practical Projects and Go from Zero to...</td>\n",
       "      <td>deep-learning-machine-learning-practical</td>\n",
       "      <td>https://www.udemy.com/course/deep-learning-mac...</td>\n",
       "      <td>Data Science</td>\n",
       "    </tr>\n",
       "  </tbody>\n",
       "</table>\n",
       "</div>"
      ],
      "text/plain": [
       "                                        Course_title  Course_id  \\\n",
       "0                      Logistic Regression in Python    2332592   \n",
       "1  Introduction to Machine Learning & Deep Learni...     617930   \n",
       "2  Neural Networks in Python: Deep Learning for B...    2652356   \n",
       "3          Complete Time Series Analysis With Python    1919176   \n",
       "4  Machine Learning Practical Workout | 8 Real-Wo...    2367072   \n",
       "\n",
       "                                            Headline  \\\n",
       "0  Logistic regression in Python tutorial for beg...   \n",
       "1  Regression, Naive Bayes Classifier, Support Ve...   \n",
       "2  Learn Artificial Neural Networks (ANN) in Pyth...   \n",
       "3  Python Time Series: How To Use Data Science, S...   \n",
       "4  Build 8 Practical Projects and Go from Zero to...   \n",
       "\n",
       "                                         Description  \\\n",
       "0  machine-learning-basics-classification-models-...   \n",
       "1         introduction-to-machine-learning-in-python   \n",
       "2  neural-network-understanding-and-building-an-a...   \n",
       "3  complete-time-series-data-analysis-bootcamp-wi...   \n",
       "4           deep-learning-machine-learning-practical   \n",
       "\n",
       "                                          Course_url   SubCategory  \n",
       "0  https://www.udemy.com/course/machine-learning-...  Data Science  \n",
       "1  https://www.udemy.com/course/introduction-to-m...  Data Science  \n",
       "2  https://www.udemy.com/course/neural-network-un...  Data Science  \n",
       "3  https://www.udemy.com/course/complete-time-ser...  Data Science  \n",
       "4  https://www.udemy.com/course/deep-learning-mac...  Data Science  "
      ]
     },
     "execution_count": 65,
     "metadata": {},
     "output_type": "execute_result"
    }
   ],
   "source": [
    "df1 = pd.DataFrame({'Course_title': title,\n",
    "                  'Course_id': c_id,\n",
    "                  'Headline': headline,\n",
    "                  'Description': published_title,\n",
    "                  'Course_url': url})\n",
    "df1['SubCategory'] = \"Data Science\"\n",
    "df1.head()"
   ]
  },
  {
   "cell_type": "code",
   "execution_count": 66,
   "metadata": {},
   "outputs": [],
   "source": [
    "df['text']=df['Course_title']+' '+df['Headline']+' '+df['Description']"
   ]
  },
  {
   "cell_type": "code",
   "execution_count": 71,
   "metadata": {},
   "outputs": [],
   "source": [
    "# df\n",
    "from sklearn.feature_extraction.text import TfidfVectorizer\n",
    "from sklearn.feature_extraction.text import CountVectorizer"
   ]
  },
  {
   "cell_type": "code",
   "execution_count": 118,
   "metadata": {},
   "outputs": [
    {
     "data": {
      "text/plain": [
       "TfidfVectorizer(analyzer='word', binary=False, decode_error='strict',\n",
       "                dtype=<class 'numpy.float64'>, encoding='utf-8',\n",
       "                input='content', lowercase=True, max_df=1.0, max_features=None,\n",
       "                min_df=4, ngram_range=(1, 3), norm='l2', preprocessor=None,\n",
       "                smooth_idf=True, stop_words=None, strip_accents=None,\n",
       "                sublinear_tf=False, token_pattern='\\\\w{1,}', tokenizer=None,\n",
       "                use_idf=True, vocabulary=None)"
      ]
     },
     "execution_count": 118,
     "metadata": {},
     "output_type": "execute_result"
    }
   ],
   "source": [
    "# vect= CountVectorizer(min_df=5,ngram_range=(1,3)).fit(df['text'])\n",
    "vect=TfidfVectorizer(min_df=4,ngram_range=(1,3),token_pattern=r'\\w{1,}').fit(df['text'])\n",
    "vect"
   ]
  },
  {
   "cell_type": "code",
   "execution_count": 119,
   "metadata": {},
   "outputs": [
    {
     "data": {
      "text/plain": [
       "184"
      ]
     },
     "execution_count": 119,
     "metadata": {},
     "output_type": "execute_result"
    }
   ],
   "source": [
    "# vect.get_feature_names()\n",
    "len(vect.get_feature_names())"
   ]
  },
  {
   "cell_type": "code",
   "execution_count": null,
   "metadata": {},
   "outputs": [],
   "source": []
  },
  {
   "cell_type": "code",
   "execution_count": 120,
   "metadata": {},
   "outputs": [],
   "source": [
    "matrix=vect.transform(df['text'])"
   ]
  },
  {
   "cell_type": "code",
   "execution_count": 121,
   "metadata": {},
   "outputs": [],
   "source": [
    "category_words = matrix.sum(axis=0)\n",
    "category_words_freq = [(word, category_words[0, idx]) for word, idx in vect.vocabulary_.items()]"
   ]
  },
  {
   "cell_type": "code",
   "execution_count": 132,
   "metadata": {},
   "outputs": [],
   "source": [
    "df1['text']=df1['Course_title']+' '+df1['Headline']+' '+df1['Description']"
   ]
  },
  {
   "cell_type": "code",
   "execution_count": 136,
   "metadata": {},
   "outputs": [
    {
     "data": {
      "text/plain": [
       "array([100, 101, 102, 103, 104, 105, 106, 107, 108, 109, 110, 111, 112,\n",
       "       113, 114, 115, 116, 117, 118, 119, 120, 121, 122, 123, 124, 125,\n",
       "       126, 127, 128, 129, 130, 131, 132, 133, 134, 135, 136, 137, 138,\n",
       "       139, 140, 141, 142, 143, 144, 145, 146, 147, 148, 149, 150, 151,\n",
       "       152, 153, 154, 155, 156, 157, 158, 159, 160, 161, 162, 163, 164,\n",
       "       165, 166, 167, 168, 169, 170, 171, 172, 173, 174, 175, 176, 177,\n",
       "       178, 179, 180, 181, 182, 183, 184, 185, 186, 187, 188, 189, 190,\n",
       "       191, 192, 193, 194, 195, 196, 197, 198, 199])"
      ]
     },
     "execution_count": 136,
     "metadata": {},
     "output_type": "execute_result"
    }
   ],
   "source": [
    "import numpy as np\n",
    "arr=np.arange(100,200)\n",
    "\n",
    "# df_=pd.merge(df1,df,)\n",
    "arr"
   ]
  },
  {
   "cell_type": "code",
   "execution_count": 142,
   "metadata": {},
   "outputs": [],
   "source": [
    "# df1=df1.set_index(arr)\n",
    "# df1"
   ]
  },
  {
   "cell_type": "code",
   "execution_count": 140,
   "metadata": {},
   "outputs": [],
   "source": [
    "df_=pd.concat([df,df1])"
   ]
  },
  {
   "cell_type": "code",
   "execution_count": 141,
   "metadata": {},
   "outputs": [
    {
     "data": {
      "text/html": [
       "<div>\n",
       "<style scoped>\n",
       "    .dataframe tbody tr th:only-of-type {\n",
       "        vertical-align: middle;\n",
       "    }\n",
       "\n",
       "    .dataframe tbody tr th {\n",
       "        vertical-align: top;\n",
       "    }\n",
       "\n",
       "    .dataframe thead th {\n",
       "        text-align: right;\n",
       "    }\n",
       "</style>\n",
       "<table border=\"1\" class=\"dataframe\">\n",
       "  <thead>\n",
       "    <tr style=\"text-align: right;\">\n",
       "      <th></th>\n",
       "      <th>Course_title</th>\n",
       "      <th>Course_id</th>\n",
       "      <th>Headline</th>\n",
       "      <th>Description</th>\n",
       "      <th>Course_url</th>\n",
       "      <th>SubCategory</th>\n",
       "      <th>text</th>\n",
       "    </tr>\n",
       "  </thead>\n",
       "  <tbody>\n",
       "    <tr>\n",
       "      <th>0</th>\n",
       "      <td>Machine Learning A-Z™: Hands-On Python &amp; R In ...</td>\n",
       "      <td>950390</td>\n",
       "      <td>Learn to create Machine Learning Algorithms in...</td>\n",
       "      <td>machinelearning</td>\n",
       "      <td>https://www.udemy.com/course/machinelearning/</td>\n",
       "      <td>Data Science</td>\n",
       "      <td>Machine Learning A-Z™: Hands-On Python &amp; R In ...</td>\n",
       "    </tr>\n",
       "    <tr>\n",
       "      <th>1</th>\n",
       "      <td>Python for Data Science and Machine Learning B...</td>\n",
       "      <td>903744</td>\n",
       "      <td>Learn how to use NumPy, Pandas, Seaborn , Matp...</td>\n",
       "      <td>python-for-data-science-and-machine-learning-b...</td>\n",
       "      <td>https://www.udemy.com/course/python-for-data-s...</td>\n",
       "      <td>Data Science</td>\n",
       "      <td>Python for Data Science and Machine Learning B...</td>\n",
       "    </tr>\n",
       "    <tr>\n",
       "      <th>2</th>\n",
       "      <td>The Data Science Course 2020: Complete Data Sc...</td>\n",
       "      <td>1754098</td>\n",
       "      <td>Complete Data Science Training: Mathematics, S...</td>\n",
       "      <td>the-data-science-course-complete-data-science-...</td>\n",
       "      <td>https://www.udemy.com/course/the-data-science-...</td>\n",
       "      <td>Data Science</td>\n",
       "      <td>The Data Science Course 2020: Complete Data Sc...</td>\n",
       "    </tr>\n",
       "    <tr>\n",
       "      <th>3</th>\n",
       "      <td>R Programming A-Z™: R For Data Science With Re...</td>\n",
       "      <td>765242</td>\n",
       "      <td>Learn Programming In R And R Studio. Data Anal...</td>\n",
       "      <td>r-programming</td>\n",
       "      <td>https://www.udemy.com/course/r-programming/</td>\n",
       "      <td>Data Science</td>\n",
       "      <td>R Programming A-Z™: R For Data Science With Re...</td>\n",
       "    </tr>\n",
       "    <tr>\n",
       "      <th>4</th>\n",
       "      <td>Deep Learning A-Z™: Hands-On Artificial Neural...</td>\n",
       "      <td>1151632</td>\n",
       "      <td>Learn to create Deep Learning Algorithms in Py...</td>\n",
       "      <td>deeplearning</td>\n",
       "      <td>https://www.udemy.com/course/deeplearning/</td>\n",
       "      <td>Data Science</td>\n",
       "      <td>Deep Learning A-Z™: Hands-On Artificial Neural...</td>\n",
       "    </tr>\n",
       "    <tr>\n",
       "      <th>...</th>\n",
       "      <td>...</td>\n",
       "      <td>...</td>\n",
       "      <td>...</td>\n",
       "      <td>...</td>\n",
       "      <td>...</td>\n",
       "      <td>...</td>\n",
       "      <td>...</td>\n",
       "    </tr>\n",
       "    <tr>\n",
       "      <th>195</th>\n",
       "      <td>Natural Language Processing and Text Mining Wi...</td>\n",
       "      <td>1415988</td>\n",
       "      <td>Analyze Text using Natural Language Processing...</td>\n",
       "      <td>master-natural-language-processing-nlp-text-mi...</td>\n",
       "      <td>https://www.udemy.com/course/master-natural-la...</td>\n",
       "      <td>Data Science</td>\n",
       "      <td>Natural Language Processing and Text Mining Wi...</td>\n",
       "    </tr>\n",
       "    <tr>\n",
       "      <th>196</th>\n",
       "      <td>Data Science &amp; Business Analytics Course</td>\n",
       "      <td>3176900</td>\n",
       "      <td>Learn the Core of Data Science, Analytical Ski...</td>\n",
       "      <td>best-data-science-business-analytics-course</td>\n",
       "      <td>https://www.udemy.com/course/best-data-science...</td>\n",
       "      <td>Data Science</td>\n",
       "      <td>Data Science &amp; Business Analytics Course Learn...</td>\n",
       "    </tr>\n",
       "    <tr>\n",
       "      <th>197</th>\n",
       "      <td>Statistics with R - Intermediate Level</td>\n",
       "      <td>691892</td>\n",
       "      <td>Statistical analyses using the R program</td>\n",
       "      <td>statistics-with-r-intermediate-level</td>\n",
       "      <td>https://www.udemy.com/course/statistics-with-r...</td>\n",
       "      <td>Data Science</td>\n",
       "      <td>Statistics with R - Intermediate Level Statist...</td>\n",
       "    </tr>\n",
       "    <tr>\n",
       "      <th>198</th>\n",
       "      <td>ML for Business Managers: Build Regression mod...</td>\n",
       "      <td>2236090</td>\n",
       "      <td>Simple Regression &amp; Multiple Regression| must-...</td>\n",
       "      <td>machine-learning-basics-building-a-regression-...</td>\n",
       "      <td>https://www.udemy.com/course/machine-learning-...</td>\n",
       "      <td>Data Science</td>\n",
       "      <td>ML for Business Managers: Build Regression mod...</td>\n",
       "    </tr>\n",
       "    <tr>\n",
       "      <th>199</th>\n",
       "      <td>PyTorch: Deep Learning and Artificial Intellig...</td>\n",
       "      <td>2734668</td>\n",
       "      <td>Neural Networks for Computer Vision, Time Seri...</td>\n",
       "      <td>pytorch-deep-learning</td>\n",
       "      <td>https://www.udemy.com/course/pytorch-deep-lear...</td>\n",
       "      <td>Data Science</td>\n",
       "      <td>PyTorch: Deep Learning and Artificial Intellig...</td>\n",
       "    </tr>\n",
       "  </tbody>\n",
       "</table>\n",
       "<p>200 rows × 7 columns</p>\n",
       "</div>"
      ],
      "text/plain": [
       "                                          Course_title  Course_id  \\\n",
       "0    Machine Learning A-Z™: Hands-On Python & R In ...     950390   \n",
       "1    Python for Data Science and Machine Learning B...     903744   \n",
       "2    The Data Science Course 2020: Complete Data Sc...    1754098   \n",
       "3    R Programming A-Z™: R For Data Science With Re...     765242   \n",
       "4    Deep Learning A-Z™: Hands-On Artificial Neural...    1151632   \n",
       "..                                                 ...        ...   \n",
       "195  Natural Language Processing and Text Mining Wi...    1415988   \n",
       "196           Data Science & Business Analytics Course    3176900   \n",
       "197             Statistics with R - Intermediate Level     691892   \n",
       "198  ML for Business Managers: Build Regression mod...    2236090   \n",
       "199  PyTorch: Deep Learning and Artificial Intellig...    2734668   \n",
       "\n",
       "                                              Headline  \\\n",
       "0    Learn to create Machine Learning Algorithms in...   \n",
       "1    Learn how to use NumPy, Pandas, Seaborn , Matp...   \n",
       "2    Complete Data Science Training: Mathematics, S...   \n",
       "3    Learn Programming In R And R Studio. Data Anal...   \n",
       "4    Learn to create Deep Learning Algorithms in Py...   \n",
       "..                                                 ...   \n",
       "195  Analyze Text using Natural Language Processing...   \n",
       "196  Learn the Core of Data Science, Analytical Ski...   \n",
       "197           Statistical analyses using the R program   \n",
       "198  Simple Regression & Multiple Regression| must-...   \n",
       "199  Neural Networks for Computer Vision, Time Seri...   \n",
       "\n",
       "                                           Description  \\\n",
       "0                                      machinelearning   \n",
       "1    python-for-data-science-and-machine-learning-b...   \n",
       "2    the-data-science-course-complete-data-science-...   \n",
       "3                                        r-programming   \n",
       "4                                         deeplearning   \n",
       "..                                                 ...   \n",
       "195  master-natural-language-processing-nlp-text-mi...   \n",
       "196        best-data-science-business-analytics-course   \n",
       "197               statistics-with-r-intermediate-level   \n",
       "198  machine-learning-basics-building-a-regression-...   \n",
       "199                              pytorch-deep-learning   \n",
       "\n",
       "                                            Course_url   SubCategory  \\\n",
       "0        https://www.udemy.com/course/machinelearning/  Data Science   \n",
       "1    https://www.udemy.com/course/python-for-data-s...  Data Science   \n",
       "2    https://www.udemy.com/course/the-data-science-...  Data Science   \n",
       "3          https://www.udemy.com/course/r-programming/  Data Science   \n",
       "4           https://www.udemy.com/course/deeplearning/  Data Science   \n",
       "..                                                 ...           ...   \n",
       "195  https://www.udemy.com/course/master-natural-la...  Data Science   \n",
       "196  https://www.udemy.com/course/best-data-science...  Data Science   \n",
       "197  https://www.udemy.com/course/statistics-with-r...  Data Science   \n",
       "198  https://www.udemy.com/course/machine-learning-...  Data Science   \n",
       "199  https://www.udemy.com/course/pytorch-deep-lear...  Data Science   \n",
       "\n",
       "                                                  text  \n",
       "0    Machine Learning A-Z™: Hands-On Python & R In ...  \n",
       "1    Python for Data Science and Machine Learning B...  \n",
       "2    The Data Science Course 2020: Complete Data Sc...  \n",
       "3    R Programming A-Z™: R For Data Science With Re...  \n",
       "4    Deep Learning A-Z™: Hands-On Artificial Neural...  \n",
       "..                                                 ...  \n",
       "195  Natural Language Processing and Text Mining Wi...  \n",
       "196  Data Science & Business Analytics Course Learn...  \n",
       "197  Statistics with R - Intermediate Level Statist...  \n",
       "198  ML for Business Managers: Build Regression mod...  \n",
       "199  PyTorch: Deep Learning and Artificial Intellig...  \n",
       "\n",
       "[200 rows x 7 columns]"
      ]
     },
     "execution_count": 141,
     "metadata": {},
     "output_type": "execute_result"
    }
   ],
   "source": [
    "df_"
   ]
  },
  {
   "cell_type": "code",
   "execution_count": 144,
   "metadata": {},
   "outputs": [
    {
     "data": {
      "text/plain": [
       "673"
      ]
     },
     "execution_count": 144,
     "metadata": {},
     "output_type": "execute_result"
    }
   ],
   "source": [
    "vect=TfidfVectorizer(min_df=2,ngram_range=(1,3),token_pattern=r'\\w{1,}').fit(df['text'])\n",
    "len(vect.get_feature_names())"
   ]
  },
  {
   "cell_type": "code",
   "execution_count": 145,
   "metadata": {},
   "outputs": [],
   "source": [
    "matrix=vect.transform(df['text'])\n",
    "category_words = matrix.sum(axis=0)\n",
    "category_words_freq = [(word, category_words[0, idx]) for word, idx in vect.vocabulary_.items()]"
   ]
  },
  {
   "cell_type": "code",
   "execution_count": 146,
   "metadata": {},
   "outputs": [
    {
     "data": {
      "text/html": [
       "<div>\n",
       "<style scoped>\n",
       "    .dataframe tbody tr th:only-of-type {\n",
       "        vertical-align: middle;\n",
       "    }\n",
       "\n",
       "    .dataframe tbody tr th {\n",
       "        vertical-align: top;\n",
       "    }\n",
       "\n",
       "    .dataframe thead th {\n",
       "        text-align: right;\n",
       "    }\n",
       "</style>\n",
       "<table border=\"1\" class=\"dataframe\">\n",
       "  <thead>\n",
       "    <tr style=\"text-align: right;\">\n",
       "      <th></th>\n",
       "      <th>Terms</th>\n",
       "      <th>Value</th>\n",
       "    </tr>\n",
       "  </thead>\n",
       "  <tbody>\n",
       "    <tr>\n",
       "      <th>0</th>\n",
       "      <td>learning</td>\n",
       "      <td>8.845490</td>\n",
       "    </tr>\n",
       "    <tr>\n",
       "      <th>1</th>\n",
       "      <td>data</td>\n",
       "      <td>7.812425</td>\n",
       "    </tr>\n",
       "    <tr>\n",
       "      <th>2</th>\n",
       "      <td>machine learning</td>\n",
       "      <td>7.047932</td>\n",
       "    </tr>\n",
       "    <tr>\n",
       "      <th>3</th>\n",
       "      <td>machine</td>\n",
       "      <td>7.017208</td>\n",
       "    </tr>\n",
       "    <tr>\n",
       "      <th>4</th>\n",
       "      <td>and</td>\n",
       "      <td>6.317718</td>\n",
       "    </tr>\n",
       "    <tr>\n",
       "      <th>5</th>\n",
       "      <td>python</td>\n",
       "      <td>5.978031</td>\n",
       "    </tr>\n",
       "    <tr>\n",
       "      <th>6</th>\n",
       "      <td>science</td>\n",
       "      <td>5.696154</td>\n",
       "    </tr>\n",
       "    <tr>\n",
       "      <th>7</th>\n",
       "      <td>data science</td>\n",
       "      <td>5.696154</td>\n",
       "    </tr>\n",
       "    <tr>\n",
       "      <th>8</th>\n",
       "      <td>with</td>\n",
       "      <td>5.192032</td>\n",
       "    </tr>\n",
       "    <tr>\n",
       "      <th>9</th>\n",
       "      <td>in</td>\n",
       "      <td>5.049544</td>\n",
       "    </tr>\n",
       "    <tr>\n",
       "      <th>10</th>\n",
       "      <td>for</td>\n",
       "      <td>4.838902</td>\n",
       "    </tr>\n",
       "    <tr>\n",
       "      <th>11</th>\n",
       "      <td>deep</td>\n",
       "      <td>4.623835</td>\n",
       "    </tr>\n",
       "    <tr>\n",
       "      <th>12</th>\n",
       "      <td>to</td>\n",
       "      <td>4.343856</td>\n",
       "    </tr>\n",
       "    <tr>\n",
       "      <th>13</th>\n",
       "      <td>deep learning</td>\n",
       "      <td>4.237881</td>\n",
       "    </tr>\n",
       "    <tr>\n",
       "      <th>14</th>\n",
       "      <td>r</td>\n",
       "      <td>4.213368</td>\n",
       "    </tr>\n",
       "    <tr>\n",
       "      <th>15</th>\n",
       "      <td>in python</td>\n",
       "      <td>3.889789</td>\n",
       "    </tr>\n",
       "    <tr>\n",
       "      <th>16</th>\n",
       "      <td>artificial</td>\n",
       "      <td>2.950859</td>\n",
       "    </tr>\n",
       "    <tr>\n",
       "      <th>17</th>\n",
       "      <td>intelligence</td>\n",
       "      <td>2.930450</td>\n",
       "    </tr>\n",
       "    <tr>\n",
       "      <th>18</th>\n",
       "      <td>a</td>\n",
       "      <td>2.926342</td>\n",
       "    </tr>\n",
       "    <tr>\n",
       "      <th>19</th>\n",
       "      <td>artificial intelligence</td>\n",
       "      <td>2.905656</td>\n",
       "    </tr>\n",
       "    <tr>\n",
       "      <th>20</th>\n",
       "      <td>statistics</td>\n",
       "      <td>2.868036</td>\n",
       "    </tr>\n",
       "    <tr>\n",
       "      <th>21</th>\n",
       "      <td>learn</td>\n",
       "      <td>2.846992</td>\n",
       "    </tr>\n",
       "    <tr>\n",
       "      <th>22</th>\n",
       "      <td>tensorflow</td>\n",
       "      <td>2.761772</td>\n",
       "    </tr>\n",
       "    <tr>\n",
       "      <th>23</th>\n",
       "      <td>analysis</td>\n",
       "      <td>2.717731</td>\n",
       "    </tr>\n",
       "    <tr>\n",
       "      <th>24</th>\n",
       "      <td>complete</td>\n",
       "      <td>2.703861</td>\n",
       "    </tr>\n",
       "    <tr>\n",
       "      <th>25</th>\n",
       "      <td>the</td>\n",
       "      <td>2.603985</td>\n",
       "    </tr>\n",
       "    <tr>\n",
       "      <th>26</th>\n",
       "      <td>on</td>\n",
       "      <td>2.472965</td>\n",
       "    </tr>\n",
       "    <tr>\n",
       "      <th>27</th>\n",
       "      <td>learning in</td>\n",
       "      <td>2.419771</td>\n",
       "    </tr>\n",
       "    <tr>\n",
       "      <th>28</th>\n",
       "      <td>for data</td>\n",
       "      <td>2.392736</td>\n",
       "    </tr>\n",
       "    <tr>\n",
       "      <th>29</th>\n",
       "      <td>learning with</td>\n",
       "      <td>2.301302</td>\n",
       "    </tr>\n",
       "  </tbody>\n",
       "</table>\n",
       "</div>"
      ],
      "text/plain": [
       "                      Terms     Value\n",
       "0                  learning  8.845490\n",
       "1                      data  7.812425\n",
       "2          machine learning  7.047932\n",
       "3                   machine  7.017208\n",
       "4                       and  6.317718\n",
       "5                    python  5.978031\n",
       "6                   science  5.696154\n",
       "7              data science  5.696154\n",
       "8                      with  5.192032\n",
       "9                        in  5.049544\n",
       "10                      for  4.838902\n",
       "11                     deep  4.623835\n",
       "12                       to  4.343856\n",
       "13            deep learning  4.237881\n",
       "14                        r  4.213368\n",
       "15                in python  3.889789\n",
       "16               artificial  2.950859\n",
       "17             intelligence  2.930450\n",
       "18                        a  2.926342\n",
       "19  artificial intelligence  2.905656\n",
       "20               statistics  2.868036\n",
       "21                    learn  2.846992\n",
       "22               tensorflow  2.761772\n",
       "23                 analysis  2.717731\n",
       "24                 complete  2.703861\n",
       "25                      the  2.603985\n",
       "26                       on  2.472965\n",
       "27              learning in  2.419771\n",
       "28                 for data  2.392736\n",
       "29            learning with  2.301302"
      ]
     },
     "execution_count": 146,
     "metadata": {},
     "output_type": "execute_result"
    }
   ],
   "source": [
    "f=pd.DataFrame(list(sorted(category_words_freq, key = lambda x: x[1], reverse=True)),columns=['Terms', 'Value'])\n",
    "f.head(30)"
   ]
  },
  {
   "cell_type": "code",
   "execution_count": null,
   "metadata": {},
   "outputs": [],
   "source": []
  }
 ],
 "metadata": {
  "kernelspec": {
   "display_name": "Python 3",
   "language": "python",
   "name": "python3"
  },
  "language_info": {
   "codemirror_mode": {
    "name": "ipython",
    "version": 3
   },
   "file_extension": ".py",
   "mimetype": "text/x-python",
   "name": "python",
   "nbconvert_exporter": "python",
   "pygments_lexer": "ipython3",
   "version": "3.7.6"
  }
 },
 "nbformat": 4,
 "nbformat_minor": 4
}
